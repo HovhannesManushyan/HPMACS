{
 "cells": [
  {
   "cell_type": "code",
   "execution_count": 18,
   "id": "60303aa6",
   "metadata": {},
   "outputs": [],
   "source": [
    "import pandas as pd\n",
    "import string\n",
    "import random"
   ]
  },
  {
   "cell_type": "code",
   "execution_count": 23,
   "id": "f7747675",
   "metadata": {},
   "outputs": [],
   "source": [
    "def encrypt(plaintext,key):\n",
    "    trans = plaintext.maketrans(string.ascii_lowercase,key)\n",
    "    cipher = plaintext.translate(trans)\n",
    "    return cipher\n",
    "\n",
    "def decrypt(ciphertext,key):\n",
    "    trans = ciphertext.maketrans(key,string.ascii_lowercase)\n",
    "    cipher = ciphertext.translate(trans)\n",
    "    return cipher\n",
    "\n",
    "def paternify(instr):\n",
    "    ht = dict()\n",
    "    pattern = \"\"\n",
    "    cnt = 97\n",
    "    for i in instr:\n",
    "        if i in ht:\n",
    "            pattern = pattern + ht[i]\n",
    "        else:\n",
    "            pattern = pattern + chr(cnt)\n",
    "            ht[i]=chr(cnt)\n",
    "            cnt = cnt + 1\n",
    "    return pattern"
   ]
  },
  {
   "cell_type": "code",
   "execution_count": 24,
   "id": "3259c4b9",
   "metadata": {},
   "outputs": [],
   "source": [
    "actual_key = \"badcfehgjilkonmrqputsxwvzy\"\n",
    "plaintext = \"holy mother of god i am famous\"\n",
    "cipher = encrypt(plaintext,actual_key)"
   ]
  },
  {
   "cell_type": "code",
   "execution_count": 61,
   "id": "ccd4a88f",
   "metadata": {},
   "outputs": [],
   "source": [
    "pt = pd.read_csv(\"ngram_data/count_1w.csv\")"
   ]
  },
  {
   "cell_type": "code",
   "execution_count": null,
   "id": "226aa74e",
   "metadata": {},
   "outputs": [],
   "source": [
    "def paternify2(instr):\n",
    "    ht = set()\n",
    "    pattern = \"\"\n",
    "    cnt = 97\n",
    "    for i in instr:\n",
    "        if i not in ht:\n",
    "            pattern = pattern + i\n",
    "            ht.add(i)\n",
    "    mp = string.ascii_lowercase[:len(pattern)]\n",
    "    trans = mp.maketrans(pattern,mp)\n",
    "    string\n",
    "    return pattern"
   ]
  },
  {
   "cell_type": "code",
   "execution_count": 65,
   "id": "08de3f9c",
   "metadata": {},
   "outputs": [
    {
     "name": "stdout",
     "output_type": "stream",
     "text": [
      "CPU times: user 342 ms, sys: 2.67 ms, total: 344 ms\n",
      "Wall time: 343 ms\n"
     ]
    },
    {
     "data": {
      "text/plain": [
       "0             abc\n",
       "1              ab\n",
       "2             abc\n",
       "3              ab\n",
       "4               a\n",
       "           ...   \n",
       "333326      abbcd\n",
       "333327     abbcca\n",
       "333328    abbcdde\n",
       "333329     abccab\n",
       "333330      abcad\n",
       "Name: word, Length: 333331, dtype: object"
      ]
     },
     "execution_count": 65,
     "metadata": {},
     "output_type": "execute_result"
    }
   ],
   "source": [
    "%%time\n",
    "pt[\"word\"].map(paternify)"
   ]
  },
  {
   "cell_type": "code",
   "execution_count": null,
   "id": "7dbe4d0e",
   "metadata": {},
   "outputs": [],
   "source": []
  }
 ],
 "metadata": {
  "kernelspec": {
   "display_name": "Python 3 (ipykernel)",
   "language": "python",
   "name": "python3"
  },
  "language_info": {
   "codemirror_mode": {
    "name": "ipython",
    "version": 3
   },
   "file_extension": ".py",
   "mimetype": "text/x-python",
   "name": "python",
   "nbconvert_exporter": "python",
   "pygments_lexer": "ipython3",
   "version": "3.9.7"
  }
 },
 "nbformat": 4,
 "nbformat_minor": 5
}
