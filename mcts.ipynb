{
 "cells": [
  {
   "cell_type": "code",
   "execution_count": 1,
   "metadata": {},
   "outputs": [],
   "source": [
    "from montecarlo.node import Node\n",
    "from montecarlo.montecarlo import MonteCarlo \n",
    "import math\n",
    "from csp_based_word_replacement_solver import *\n",
    "import numpy as np\n",
    "import re"
   ]
  },
  {
   "cell_type": "code",
   "execution_count": 2,
   "metadata": {},
   "outputs": [],
   "source": [
    "def sigmoid(x):\n",
    "    return 1 / (1 + math.exp(-x))"
   ]
  },
  {
   "cell_type": "code",
   "execution_count": 3,
   "metadata": {},
   "outputs": [
    {
     "data": {
      "text/plain": [
       "29"
      ]
     },
     "execution_count": 3,
     "metadata": {},
     "output_type": "execute_result"
    }
   ],
   "source": [
    "# originalcyperedText = 'wmpkc bnc omut jormptbnt cfrtg tfdgnmkmhz udjfndf'\n",
    "# cyperedText = ''.join(\"wmpkc bnc omut jormptbnt cfrtg tfdgnmkmhz udjfndf\".split(' '))\n",
    "cyperedText = ''.join(\"v ybir pbssrr naq ybat zbeavat ancf\".split(' '))\n",
    "# cyperedText = ''.join(\"a ghjk ihp\".split(' '))\n",
    "\n",
    "montecarlo = MonteCarlo(Node(cyperedText))\n",
    "len(cyperedText)"
   ]
  },
  {
   "cell_type": "code",
   "execution_count": 4,
   "metadata": {},
   "outputs": [],
   "source": [
    "# import random\n",
    "# def make_choice(self):\n",
    "#     best_children = []\n",
    "#     most_visits = float('-inf')\n",
    "\n",
    "#     for child in self.root_node.children:\n",
    "#         print(child.visits, best_children)\n",
    "#         if child.visits > most_visits:\n",
    "#             most_visits = child.visits\n",
    "#             best_children = [child]\n",
    "#         elif child.visits == most_visits:\n",
    "#             best_children.append(child)\n",
    "\n",
    "#     return random.choice(best_children)\n",
    "\n",
    "# montecarlo.make_choice = make_choice"
   ]
  },
  {
   "cell_type": "code",
   "execution_count": 5,
   "metadata": {},
   "outputs": [],
   "source": [
    "#### always goes to the right\n",
    "def child_finder(node, self):\n",
    "    split = node.state.split(' ')\n",
    "    notVisitedPart = split[-1]\n",
    "\n",
    "    for i in range(1, len(notVisitedPart)+1):\n",
    "        child_state = \" \".join(split[:-1]) + \" \" + notVisitedPart[:i]+' '+notVisitedPart[i:]\n",
    "#         print(child_state, 'child_state')\n",
    "        node.add_child(Node(child_state.rstrip().lstrip()))\n"
   ]
  },
  {
   "cell_type": "code",
   "execution_count": 6,
   "metadata": {},
   "outputs": [],
   "source": [
    "#### chooses the longest\n",
    "# def child_finder(node, self):\n",
    "#     split = node.state.split(' ')\n",
    "#     longest_string = max(split, key=len)\n",
    "#     index = split.index(longest_string)\n",
    "\n",
    "#     for i in range(1, len(longest_string)+1):\n",
    "#         child_state = \" \".join(split[:index]) + \" \" + longest_string[:i]+' '+longest_string[i:] + \" \" + \" \".join(split[index+1:])\n",
    "#         node.add_child(Node(child_state.strip()))\n"
   ]
  },
  {
   "cell_type": "code",
   "execution_count": null,
   "metadata": {},
   "outputs": [],
   "source": [
    "def node_evaluator(node, self):\n",
    "    if(len(node.state.split(\" \")[-1]) <= 1):        \n",
    "        print(node.state, '-----evaluation')\n",
    "        try:\n",
    "            res_domain = ac3_solver(node.state, word_dict)\n",
    "        except:\n",
    "            print(node.state, '-----evaluated exception returning -1')\n",
    "            return -1\n",
    "        \n",
    "        \n",
    "        print(node.state, '--------solved by ac3, printing state')\n",
    "        if res_domain != None:\n",
    "            solved = solver(cipher,res_domain,fivegramprobs)\n",
    "            print(solved, '--------solved by solver, printing score')\n",
    "        else:\n",
    "            solved = -float(\"inf\")\n",
    "#         solved = solver(node.state, res_domain, fivegramprobs)\n",
    "        print(solved, '--------solved by solver, printing score')\n",
    "#         x = sigmoid(solved) + abs(np.random.normal(0, 1e-10))\n",
    "        x = sigmoid(solved)\n",
    "        print(x, '--------solved by ac3 and solver, sigmoid works')\n",
    "        return x\n"
   ]
  },
  {
   "cell_type": "code",
   "execution_count": null,
   "metadata": {},
   "outputs": [],
   "source": [
    "montecarlo.child_finder = child_finder\n",
    "montecarlo.node_evaluator = node_evaluator"
   ]
  },
  {
   "cell_type": "code",
   "execution_count": null,
   "metadata": {
    "scrolled": true
   },
   "outputs": [],
   "source": [
    "while True:\n",
    "    montecarlo.simulate(5)\n",
    "    best_child = montecarlo.make_choice()\n",
    "    print(best_child.state, '-----best_child.state,')\n",
    "    if best_child.state == montecarlo.root_node.state:\n",
    "        break\n",
    "    if best_child.win_value != -1:\n",
    "        montecarlo.root_node = best_child"
   ]
  },
  {
   "cell_type": "code",
   "execution_count": null,
   "metadata": {},
   "outputs": [],
   "source": [
    "montecarlo.simulate(1)\n",
    "best_child = montecarlo.make_choice()\n",
    "print(best_child.state, '-----best_child.state,')"
   ]
  },
  {
   "cell_type": "code",
   "execution_count": null,
   "metadata": {},
   "outputs": [],
   "source": [
    "best_child.win_value"
   ]
  },
  {
   "cell_type": "code",
   "execution_count": null,
   "metadata": {},
   "outputs": [],
   "source": [
    "a = 'wmpkcbncomutjormptbntcfrtgtfdgnmkmhzud jf nd f'\n",
    "split = a.split(' ')\n",
    "\n",
    "notVisitedPart = split[-1]\n",
    "print(notVisitedPart, '--notvispart')\n",
    "\n",
    "for i in range(1, len(notVisitedPart)+1):\n",
    "    child_state = ''\n",
    "    if len(split[:-1])>0:\n",
    "        child_state += \" \".join(split[:-1])\n",
    "    print(child_state, '--chs')\n",
    "    if len(notVisitedPart)>0:\n",
    "        child_state += \" \" + notVisitedPart[:i]+' '+notVisitedPart[i:]\n",
    "    \n",
    "print(child_state, '----child_state')\n",
    "\n"
   ]
  },
  {
   "cell_type": "code",
   "execution_count": null,
   "metadata": {},
   "outputs": [],
   "source": [
    "'  dqd wdq  '.lstrip().rstrip()"
   ]
  },
  {
   "cell_type": "code",
   "execution_count": null,
   "metadata": {},
   "outputs": [],
   "source": [
    "abs(np.random.normal(0, 1))"
   ]
  },
  {
   "cell_type": "code",
   "execution_count": null,
   "metadata": {},
   "outputs": [],
   "source": [
    "split = 'adi jaiddadkda asas kj asasasaadeddef'.split(' ')\n",
    "longest_string = max(split, key=len)\n",
    "index = split.index(longest_string)\n",
    "\n",
    "for i in range(1, len(longest_string)+1):\n",
    "    child_state = \" \".join(split[:index]) + \" \" + longest_string[:i]+' '+longest_string[i:] + \" \" + \" \".join(split[index+1:])\n",
    "    print(child_state, 'child_state')\n",
    "    "
   ]
  },
  {
   "cell_type": "code",
   "execution_count": null,
   "metadata": {},
   "outputs": [],
   "source": []
  }
 ],
 "metadata": {
  "kernelspec": {
   "display_name": "Python 3 (ipykernel)",
   "language": "python",
   "name": "python3"
  },
  "language_info": {
   "codemirror_mode": {
    "name": "ipython",
    "version": 3
   },
   "file_extension": ".py",
   "mimetype": "text/x-python",
   "name": "python",
   "nbconvert_exporter": "python",
   "pygments_lexer": "ipython3",
   "version": "3.8.3"
  }
 },
 "nbformat": 4,
 "nbformat_minor": 4
}
